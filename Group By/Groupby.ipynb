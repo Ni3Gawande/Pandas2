{
 "cells": [
  {
   "cell_type": "code",
   "execution_count": null,
   "id": "2724ad1b-a44e-49b0-8194-21dc589eb9fe",
   "metadata": {},
   "outputs": [],
   "source": [
    "import pandas as pd"
   ]
  },
  {
   "cell_type": "code",
   "execution_count": null,
   "id": "4c18f217-4f33-4721-b259-86be8caafc5b",
   "metadata": {},
   "outputs": [],
   "source": [
    "df=pd.read_csv('pokemon.csv')"
   ]
  },
  {
   "cell_type": "code",
   "execution_count": null,
   "id": "30b31630-3dae-4b53-a10d-adb3a6b777a7",
   "metadata": {},
   "outputs": [],
   "source": [
    "df"
   ]
  },
  {
   "cell_type": "code",
   "execution_count": null,
   "id": "92a2f12c-f75a-4e65-becc-c0c9b51a3d09",
   "metadata": {},
   "outputs": [],
   "source": [
    "df.info()"
   ]
  },
  {
   "cell_type": "markdown",
   "id": "4ec74d3d-b9ec-45c1-a3d5-f1f7f79030a7",
   "metadata": {},
   "source": [
    "### To show max spped of particular group"
   ]
  },
  {
   "cell_type": "code",
   "execution_count": null,
   "id": "6644942f-d3ee-47bf-8324-a8f21d19e83c",
   "metadata": {},
   "outputs": [],
   "source": [
    "df.groupby('Type 1')['Speed'].max()"
   ]
  },
  {
   "cell_type": "markdown",
   "id": "64007adb-f963-4521-a870-4866d29d39e4",
   "metadata": {},
   "source": [
    "### To show max value of columns of particular group "
   ]
  },
  {
   "cell_type": "code",
   "execution_count": null,
   "id": "fe2edd81-6d3d-4453-9e44-5bc4d8b7a120",
   "metadata": {},
   "outputs": [],
   "source": [
    "df.groupby('Type 1')[['Speed','Generation']].max()"
   ]
  },
  {
   "cell_type": "markdown",
   "id": "47149568-b724-4b0b-b0df-352c7fcb651c",
   "metadata": {},
   "source": [
    "### group by on  one columns"
   ]
  },
  {
   "cell_type": "code",
   "execution_count": null,
   "id": "9f619c85-027f-4a34-aa9a-b92e2e83d10f",
   "metadata": {},
   "outputs": [],
   "source": [
    "df.groupby('Type 1').agg({'Sp. Atk':['min','max','mean','sum','count'],\n",
    "                          'Sp. Def':['max','min']})"
   ]
  },
  {
   "cell_type": "markdown",
   "id": "77ecb655-40a1-4782-b7aa-e5f17424aa2d",
   "metadata": {},
   "source": [
    "### group by on  one columns"
   ]
  },
  {
   "cell_type": "code",
   "execution_count": null,
   "id": "ac3dc4ce-4011-4ff2-9d46-f76000f3e9b0",
   "metadata": {},
   "outputs": [],
   "source": [
    "e=df.groupby('Type 2').agg({'Sp. Atk':['min','max','mean','sum','count'],\n",
    "                          'Sp. Def':['max','min']}).reset_index()"
   ]
  },
  {
   "cell_type": "code",
   "execution_count": null,
   "id": "85c4f6e5-c2e3-43f0-827a-531b0dfd8ede",
   "metadata": {},
   "outputs": [],
   "source": [
    "e.head(2)"
   ]
  },
  {
   "cell_type": "markdown",
   "id": "e0bb6a7b-f7b0-4d0b-be76-eb2eb00cb50d",
   "metadata": {},
   "source": [
    "### access value after reset index in group by function"
   ]
  },
  {
   "cell_type": "code",
   "execution_count": null,
   "id": "417eb604-0d7b-44cc-a6c2-a9afcd6d33c8",
   "metadata": {},
   "outputs": [],
   "source": [
    "e['Sp. Atk'][['mean','sum']]"
   ]
  },
  {
   "cell_type": "markdown",
   "id": "8b38d75c-82b0-4d76-9a65-c327bbd8b3d5",
   "metadata": {},
   "source": [
    "### group by on multiple column"
   ]
  },
  {
   "cell_type": "code",
   "execution_count": null,
   "id": "9b24399c-5a15-449c-a109-df5d487a6a7d",
   "metadata": {},
   "outputs": [],
   "source": [
    "df.groupby(['Type 1','Type 2']).agg({\n",
    "    'HP':['max','min','mean'], \n",
    "'Attack':['max','min','mean']\n",
    "         })"
   ]
  }
 ],
 "metadata": {
  "kernelspec": {
   "display_name": "Python 3 (ipykernel)",
   "language": "python",
   "name": "python3"
  },
  "language_info": {
   "codemirror_mode": {
    "name": "ipython",
    "version": 3
   },
   "file_extension": ".py",
   "mimetype": "text/x-python",
   "name": "python",
   "nbconvert_exporter": "python",
   "pygments_lexer": "ipython3",
   "version": "3.10.4"
  }
 },
 "nbformat": 4,
 "nbformat_minor": 5
}
