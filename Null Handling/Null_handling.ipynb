{
 "cells": [
  {
   "cell_type": "code",
   "execution_count": null,
   "id": "b38d336e-c6cc-4496-afb1-6e5051cf4e59",
   "metadata": {},
   "outputs": [],
   "source": [
    "import pandas as pd"
   ]
  },
  {
   "cell_type": "code",
   "execution_count": null,
   "id": "61d2ecf7-f699-46b5-a620-336cb85e0d76",
   "metadata": {},
   "outputs": [],
   "source": [
    "df=pd.read_csv(\"pokemon.csv\",sep=',',header=0)\n",
    "df"
   ]
  },
  {
   "cell_type": "markdown",
   "id": "01af9da4-1271-4f21-a899-1da8cee2aa91",
   "metadata": {},
   "source": [
    "# Null handling"
   ]
  },
  {
   "cell_type": "markdown",
   "id": "a9a1eda4-9590-4b4d-bdf2-74b04c791da6",
   "metadata": {},
   "source": [
    "### check total number of null in dataset"
   ]
  },
  {
   "cell_type": "code",
   "execution_count": null,
   "id": "75aab8b8-37cf-442f-8429-8be0ae18296f",
   "metadata": {},
   "outputs": [],
   "source": [
    "df.isna().sum()"
   ]
  },
  {
   "cell_type": "markdown",
   "id": "ad017647-0e9c-4fac-b8b1-44830e0c7a85",
   "metadata": {},
   "source": [
    "### Delete all the records if it having null in all column"
   ]
  },
  {
   "cell_type": "code",
   "execution_count": null,
   "id": "f8e56d0b-aa46-4309-8db2-6996e656de16",
   "metadata": {},
   "outputs": [],
   "source": [
    "res=df.dropna(how='all')"
   ]
  },
  {
   "cell_type": "code",
   "execution_count": null,
   "id": "3887d318-7f09-42ac-9398-c161d5f3c0d4",
   "metadata": {},
   "outputs": [],
   "source": [
    "res.isna().sum()"
   ]
  },
  {
   "cell_type": "markdown",
   "id": "02b06d6d-d4d2-4b1e-8931-acccaaff33de",
   "metadata": {},
   "source": [
    "### Delete all the records if it having null in any column"
   ]
  },
  {
   "cell_type": "code",
   "execution_count": null,
   "id": "4b949fbd-d05e-47dd-98c6-0a49b8394192",
   "metadata": {},
   "outputs": [],
   "source": [
    "res=df.dropna(how='any')"
   ]
  },
  {
   "cell_type": "code",
   "execution_count": null,
   "id": "92cdbb5e-1734-4b44-85de-bd0e7f22b028",
   "metadata": {},
   "outputs": [],
   "source": [
    "res.isna().sum()"
   ]
  },
  {
   "cell_type": "markdown",
   "id": "d6c6f4df-12c4-4745-9c26-8b330c7c5541",
   "metadata": {},
   "source": [
    "### Delete null from particular column and yes it will delete that row :-)"
   ]
  },
  {
   "cell_type": "code",
   "execution_count": null,
   "id": "792f8ced-d17c-415b-a918-9d1455946584",
   "metadata": {},
   "outputs": [],
   "source": [
    "res=df.dropna(subset=['Type 2'])"
   ]
  },
  {
   "cell_type": "code",
   "execution_count": null,
   "id": "f8b2ee1c-4457-4940-97ec-7eeec4e4e833",
   "metadata": {},
   "outputs": [],
   "source": [
    "res.isna().sum()"
   ]
  }
 ],
 "metadata": {
  "kernelspec": {
   "display_name": "Python 3 (ipykernel)",
   "language": "python",
   "name": "python3"
  },
  "language_info": {
   "codemirror_mode": {
    "name": "ipython",
    "version": 3
   },
   "file_extension": ".py",
   "mimetype": "text/x-python",
   "name": "python",
   "nbconvert_exporter": "python",
   "pygments_lexer": "ipython3",
   "version": "3.10.4"
  }
 },
 "nbformat": 4,
 "nbformat_minor": 5
}
