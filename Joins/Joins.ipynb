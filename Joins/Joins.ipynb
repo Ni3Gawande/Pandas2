{
 "cells": [
  {
   "cell_type": "code",
   "execution_count": null,
   "id": "ecc96537-6832-435a-a1a3-e0a568d454f5",
   "metadata": {},
   "outputs": [],
   "source": [
    "import pandas as pd"
   ]
  },
  {
   "cell_type": "code",
   "execution_count": null,
   "id": "69dc5958-ff8a-48df-a018-5e49aa12a0d9",
   "metadata": {},
   "outputs": [],
   "source": [
    "df1=pd.read_csv('city.csv')\n",
    "df2=pd.read_csv('city2.csv')"
   ]
  },
  {
   "cell_type": "code",
   "execution_count": null,
   "id": "27b7ab2b-ff89-4a30-a335-8db672970f0a",
   "metadata": {},
   "outputs": [],
   "source": [
    "df1"
   ]
  },
  {
   "cell_type": "code",
   "execution_count": null,
   "id": "70e10200-e95e-406d-a228-03d01c208cad",
   "metadata": {},
   "outputs": [],
   "source": [
    "df2"
   ]
  },
  {
   "cell_type": "markdown",
   "id": "d88b10c2-dbf2-4dd6-856a-95a2e062857d",
   "metadata": {},
   "source": [
    "### Inner Join on single columns "
   ]
  },
  {
   "cell_type": "code",
   "execution_count": null,
   "id": "f9b1f5ef-176d-4f95-8693-6d956d63f4f0",
   "metadata": {},
   "outputs": [],
   "source": [
    "res=pd.merge(df1,df2,on='city_id',how='inner')"
   ]
  },
  {
   "cell_type": "code",
   "execution_count": null,
   "id": "b52bb47f-1c1e-4693-b5cd-bb1b28caad88",
   "metadata": {},
   "outputs": [],
   "source": [
    "res"
   ]
  },
  {
   "cell_type": "markdown",
   "id": "0c0f1c7e-758a-4b95-8f03-08219ff27142",
   "metadata": {},
   "source": [
    "### Inner Join on single columns and suffixes"
   ]
  },
  {
   "cell_type": "code",
   "execution_count": null,
   "id": "00dd321b-7b15-4285-bbf7-cda22b63fbce",
   "metadata": {},
   "outputs": [],
   "source": [
    "res=pd.merge(df1,df2,on='city_id',suffixes=['_l','_r'],how='inner')"
   ]
  },
  {
   "cell_type": "code",
   "execution_count": null,
   "id": "66ff707a-8b96-4b35-928b-eeca6c0039aa",
   "metadata": {},
   "outputs": [],
   "source": [
    "res"
   ]
  },
  {
   "cell_type": "markdown",
   "id": "2cc7be60-a6b6-4ae2-ad91-94538826f4a2",
   "metadata": {},
   "source": [
    "### Inner Join on multi columns and suffixes"
   ]
  },
  {
   "cell_type": "code",
   "execution_count": null,
   "id": "4f869499-f7f7-4c6d-89fd-ccc2706061a3",
   "metadata": {},
   "outputs": [],
   "source": [
    "res=pd.merge(df1,df2,left_on=['city_id','city_name'],right_on=['city_id','city_name'],suffixes=('_l','_r'),how='inner')"
   ]
  },
  {
   "cell_type": "code",
   "execution_count": null,
   "id": "bdaf55c3-0f81-4eb5-8003-7f2abfcc6b13",
   "metadata": {},
   "outputs": [],
   "source": [
    "res"
   ]
  },
  {
   "cell_type": "markdown",
   "id": "69dbe4cc-b2fa-4f1f-91d5-bb221eb4fc57",
   "metadata": {},
   "source": [
    "### Right join"
   ]
  },
  {
   "cell_type": "code",
   "execution_count": null,
   "id": "8a3fece2-3dfc-4f8c-a1bb-7cfb68628cea",
   "metadata": {},
   "outputs": [],
   "source": [
    "res=pd.merge(df1,df2,on='city_id',how='right')"
   ]
  },
  {
   "cell_type": "code",
   "execution_count": null,
   "id": "3f8d9154-b140-42c5-80c6-953e7d4e5c4c",
   "metadata": {},
   "outputs": [],
   "source": [
    "res"
   ]
  },
  {
   "cell_type": "markdown",
   "id": "879e6461-47df-4346-b961-ccdaeb9ef774",
   "metadata": {},
   "source": [
    "### right join with suffixes"
   ]
  },
  {
   "cell_type": "code",
   "execution_count": null,
   "id": "2fa0901d-d3e9-4c6c-8ed3-dfae70c3034c",
   "metadata": {},
   "outputs": [],
   "source": [
    "res=pd.merge(df1,df2,on='city_id',suffixes=['_l','_r'],how='right')"
   ]
  },
  {
   "cell_type": "code",
   "execution_count": null,
   "id": "89126367-9918-474a-922b-fb26270dba05",
   "metadata": {},
   "outputs": [],
   "source": [
    "res"
   ]
  },
  {
   "cell_type": "markdown",
   "id": "c808c25f-0409-4188-a915-cf4f67b808e4",
   "metadata": {},
   "source": [
    "### right join with multiple column and suffixes"
   ]
  },
  {
   "cell_type": "code",
   "execution_count": null,
   "id": "82cd1742-0351-4f0d-bc2d-98891b6ddb62",
   "metadata": {},
   "outputs": [],
   "source": [
    "res=pd.merge(df1,df2,left_on=['city_id','city_name'],right_on=['city_id','city_name'],suffixes=['_l','_r'],how='right')"
   ]
  },
  {
   "cell_type": "code",
   "execution_count": null,
   "id": "2dca3c06-b092-4f5c-90e9-58962aecb424",
   "metadata": {},
   "outputs": [],
   "source": [
    "res"
   ]
  },
  {
   "cell_type": "markdown",
   "id": "9185f8a2-25de-4826-b8d2-0e6b9f0c1e6c",
   "metadata": {},
   "source": [
    "### left join"
   ]
  },
  {
   "cell_type": "code",
   "execution_count": null,
   "id": "8a673f66-9719-4ce1-83b2-fe5cfffc45e9",
   "metadata": {},
   "outputs": [],
   "source": [
    "res=pd.merge(df1,df2,on='city_id',how='left')"
   ]
  },
  {
   "cell_type": "code",
   "execution_count": null,
   "id": "cffe5434-7380-4d67-8cf6-48eae7433237",
   "metadata": {},
   "outputs": [],
   "source": [
    "res"
   ]
  },
  {
   "cell_type": "markdown",
   "id": "ae9d380d-0e7f-4aab-9ef8-615db20a1cde",
   "metadata": {},
   "source": [
    "### left join with suffixes"
   ]
  },
  {
   "cell_type": "code",
   "execution_count": null,
   "id": "920962d6-12bf-42ab-8346-a4fce3e47727",
   "metadata": {},
   "outputs": [],
   "source": [
    "res=pd.merge(df1,df2,on='city_id',suffixes=('_l','_r'),how='left')"
   ]
  },
  {
   "cell_type": "code",
   "execution_count": null,
   "id": "bafbee7a-745b-49a9-9829-226db77e4e21",
   "metadata": {},
   "outputs": [],
   "source": [
    "res"
   ]
  },
  {
   "cell_type": "markdown",
   "id": "9d3a13a1-a6bc-4bfe-a363-002a9b3577f8",
   "metadata": {},
   "source": [
    "### left join with multiple column and suffixes"
   ]
  },
  {
   "cell_type": "code",
   "execution_count": null,
   "id": "073f6a4b-fbf5-4989-9ef4-3e19b62131c7",
   "metadata": {},
   "outputs": [],
   "source": [
    "res=pd.merge(df1,df2,left_on=['city_id','city_name'],right_on=['city_id','city_name'],suffixes=['_l','_r'],how='left')"
   ]
  },
  {
   "cell_type": "code",
   "execution_count": null,
   "id": "8f9b06ff-b73c-4b39-aad3-56b95d9a0c29",
   "metadata": {},
   "outputs": [],
   "source": [
    "res"
   ]
  },
  {
   "cell_type": "markdown",
   "id": "3f66ab00-ca8c-4677-83a8-17ac0d77dc7d",
   "metadata": {},
   "source": [
    "### Anti join type"
   ]
  },
  {
   "cell_type": "code",
   "execution_count": null,
   "id": "dcb787fd-fbf7-45a3-a962-a5d14b6b9540",
   "metadata": {},
   "outputs": [],
   "source": [
    "res=pd.merge(df1,df2,on='city_id',how='left',indicator=True).query(\"_merge=='left_only'\")"
   ]
  },
  {
   "cell_type": "code",
   "execution_count": null,
   "id": "2ace70f3-904e-43ca-b39c-99842333d41c",
   "metadata": {},
   "outputs": [],
   "source": [
    "res.drop(['city_name_y','population_y','estimated_rent_y','city_rank_y','_merge'],axis=1,inplace=True)"
   ]
  },
  {
   "cell_type": "code",
   "execution_count": null,
   "id": "940b1a8b-97df-41b5-ac2c-d09e8c178caf",
   "metadata": {},
   "outputs": [],
   "source": [
    "res"
   ]
  }
 ],
 "metadata": {
  "kernelspec": {
   "display_name": "Python 3 (ipykernel)",
   "language": "python",
   "name": "python3"
  },
  "language_info": {
   "codemirror_mode": {
    "name": "ipython",
    "version": 3
   },
   "file_extension": ".py",
   "mimetype": "text/x-python",
   "name": "python",
   "nbconvert_exporter": "python",
   "pygments_lexer": "ipython3",
   "version": "3.10.4"
  }
 },
 "nbformat": 4,
 "nbformat_minor": 5
}
