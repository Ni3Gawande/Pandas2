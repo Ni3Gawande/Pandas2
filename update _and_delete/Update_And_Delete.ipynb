{
 "cells": [
  {
   "cell_type": "code",
   "execution_count": null,
   "id": "4f7b849d-ad96-47de-9bc6-771c0272466b",
   "metadata": {},
   "outputs": [],
   "source": [
    "import pandas as pd"
   ]
  },
  {
   "cell_type": "code",
   "execution_count": null,
   "id": "8e41c622-65a9-46dc-9868-111110c007e4",
   "metadata": {},
   "outputs": [],
   "source": [
    "df=pd.read_csv('city5.csv')"
   ]
  },
  {
   "cell_type": "code",
   "execution_count": null,
   "id": "e6276c94-9d18-4fb4-bf89-81ac6525b5b4",
   "metadata": {},
   "outputs": [],
   "source": [
    "df.isna().sum()"
   ]
  },
  {
   "cell_type": "code",
   "execution_count": null,
   "id": "153f9075-8ad0-4a24-8a09-b9a5f8a40c68",
   "metadata": {},
   "outputs": [],
   "source": [
    "df.isna().sum()"
   ]
  },
  {
   "cell_type": "code",
   "execution_count": null,
   "id": "869d8638-d107-43e5-bd55-cd765dfc743d",
   "metadata": {},
   "outputs": [],
   "source": [
    "df[df['population'].isna()]"
   ]
  },
  {
   "cell_type": "code",
   "execution_count": null,
   "id": "0dc373aa-9781-40d9-9656-d19ecb90ba5d",
   "metadata": {},
   "outputs": [],
   "source": [
    "df[df.isna().any(axis=1)]"
   ]
  },
  {
   "cell_type": "markdown",
   "id": "50351a3c-f35d-4680-9c2c-8e95957d1dfd",
   "metadata": {},
   "source": [
    "### Update a particular record"
   ]
  },
  {
   "cell_type": "code",
   "execution_count": null,
   "id": "12973ed5-562c-4eb3-9d61-6de8c635e9d8",
   "metadata": {},
   "outputs": [],
   "source": [
    "df.loc[df['city_name']=='Amit','population']='12534'"
   ]
  },
  {
   "cell_type": "code",
   "execution_count": null,
   "id": "a82243dc-a8a2-4d72-a68f-559331b8de8e",
   "metadata": {},
   "outputs": [],
   "source": [
    "df"
   ]
  },
  {
   "cell_type": "code",
   "execution_count": null,
   "id": "d0c00462-a257-428d-bcb0-6be24acb2c31",
   "metadata": {},
   "outputs": [],
   "source": [
    "df.loc[df['city_name']=='Surat',['estimated_rent','rating']]=[[13500,4.3]]"
   ]
  },
  {
   "cell_type": "code",
   "execution_count": null,
   "id": "72d0b13f-6e4b-4e80-b301-e441bd99e6dc",
   "metadata": {},
   "outputs": [],
   "source": [
    "df"
   ]
  },
  {
   "cell_type": "code",
   "execution_count": null,
   "id": "91b616bc-8bdc-4ed2-85df-97f584dad41f",
   "metadata": {},
   "outputs": [],
   "source": [
    "df.loc[(df['city_name']=='Chandrapur')&(df['city_rank']==16),'rating']=3.5"
   ]
  },
  {
   "cell_type": "code",
   "execution_count": null,
   "id": "f618f168-c0ab-4e96-a1f2-950df00b1afb",
   "metadata": {},
   "outputs": [],
   "source": [
    "df"
   ]
  },
  {
   "cell_type": "markdown",
   "id": "0cb98176-aa17-4115-a091-9a4c00a364cb",
   "metadata": {},
   "source": [
    "### Delete particular record"
   ]
  },
  {
   "cell_type": "code",
   "execution_count": null,
   "id": "8507837e-a9a4-425a-833d-bfb5c717449d",
   "metadata": {},
   "outputs": [],
   "source": [
    "df.drop(df[df['city_name']=='Chandrapur'].index)\n",
    "# df.drop(df[df['city_name']=='Chandrapur'].index,inplace=True) #It will delete that record permannently"
   ]
  },
  {
   "cell_type": "code",
   "execution_count": null,
   "id": "e73cc039-a748-4a1b-9f02-65ac42a33c34",
   "metadata": {},
   "outputs": [],
   "source": [
    "df"
   ]
  },
  {
   "cell_type": "markdown",
   "id": "3467701a-6bc1-4c6b-8fea-dbbdbb88cea9",
   "metadata": {},
   "source": [
    "### Filter out the record you dont want"
   ]
  },
  {
   "cell_type": "code",
   "execution_count": null,
   "id": "ced403e6-29b2-4140-9f70-0fd2aa1ddd4d",
   "metadata": {},
   "outputs": [],
   "source": [
    "df=df[df['city_name']!='Gadchandur']"
   ]
  },
  {
   "cell_type": "code",
   "execution_count": null,
   "id": "b5013da2-498f-4b76-8c33-9ed03f15e0b5",
   "metadata": {},
   "outputs": [],
   "source": [
    "df"
   ]
  }
 ],
 "metadata": {
  "kernelspec": {
   "display_name": "Python 3 (ipykernel)",
   "language": "python",
   "name": "python3"
  },
  "language_info": {
   "codemirror_mode": {
    "name": "ipython",
    "version": 3
   },
   "file_extension": ".py",
   "mimetype": "text/x-python",
   "name": "python",
   "nbconvert_exporter": "python",
   "pygments_lexer": "ipython3",
   "version": "3.10.4"
  }
 },
 "nbformat": 4,
 "nbformat_minor": 5
}
