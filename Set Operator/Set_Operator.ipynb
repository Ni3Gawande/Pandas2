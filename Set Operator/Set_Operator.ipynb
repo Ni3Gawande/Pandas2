{
 "cells": [
  {
   "cell_type": "code",
   "execution_count": null,
   "id": "afebd586-4166-4aea-bfcc-e0305d5d173d",
   "metadata": {},
   "outputs": [],
   "source": [
    "import pandas as pd"
   ]
  },
  {
   "cell_type": "markdown",
   "id": "57c83544-d904-4f73-b809-1fa32247dd82",
   "metadata": {},
   "source": [
    "## Data Reading"
   ]
  },
  {
   "cell_type": "code",
   "execution_count": null,
   "id": "8f6aedf9-95c9-4410-adc2-3969b01f7d0c",
   "metadata": {},
   "outputs": [],
   "source": [
    "df1=pd.read_csv(\"city.csv\")\n",
    "df2=pd.read_csv(\"city2.csv\")\n",
    "df3 = pd.read_csv(\"city3.csv\")"
   ]
  },
  {
   "cell_type": "code",
   "execution_count": null,
   "id": "26d76f73-219a-403d-af3f-0c8c95d1e759",
   "metadata": {},
   "outputs": [],
   "source": [
    "df1"
   ]
  },
  {
   "cell_type": "code",
   "execution_count": null,
   "id": "af2166ef-8c0b-4861-8aae-bdbef329d6ed",
   "metadata": {},
   "outputs": [],
   "source": [
    "df2"
   ]
  },
  {
   "cell_type": "markdown",
   "id": "89764404-d157-4130-8a69-6de4e414cf2e",
   "metadata": {},
   "source": [
    "## Union (a union b)\n",
    "### Matching records from both tables"
   ]
  },
  {
   "cell_type": "code",
   "execution_count": null,
   "id": "3ee08d18-2147-472e-a466-93aac403efcb",
   "metadata": {},
   "outputs": [],
   "source": [
    "res=pd.concat([df1,df2])\n",
    "unique=res.drop_duplicates()\n",
    "unique.sort_values('city_id')"
   ]
  },
  {
   "cell_type": "markdown",
   "id": "319cdcc7-c432-494a-9f2f-498765f51c96",
   "metadata": {
    "jp-MarkdownHeadingCollapsed": true
   },
   "source": [
    "## Union All"
   ]
  },
  {
   "cell_type": "code",
   "execution_count": null,
   "id": "581e50f8-bf32-45a0-8290-f827bd410e70",
   "metadata": {},
   "outputs": [],
   "source": [
    "res=pd.concat([df1,df2])\n",
    "res"
   ]
  },
  {
   "cell_type": "markdown",
   "id": "cfb5e3d8-7a91-4ffa-9c52-b2ea6f4d7f2b",
   "metadata": {},
   "source": [
    "## difference(A-B)"
   ]
  },
  {
   "cell_type": "code",
   "execution_count": null,
   "id": "1cd26f93-f454-4a13-ba2e-f123ceec9645",
   "metadata": {},
   "outputs": [],
   "source": [
    "res=pd.merge(df1,df2,how='outer',indicator=True).query(\"_merge=='left_only'\").drop(\"_merge\",axis=1)"
   ]
  },
  {
   "cell_type": "code",
   "execution_count": null,
   "id": "270c2796-6a4c-4ff4-9092-bf3052082209",
   "metadata": {},
   "outputs": [],
   "source": [
    "res"
   ]
  },
  {
   "cell_type": "markdown",
   "id": "7793a013-066e-4e48-822a-b3ded1e2db04",
   "metadata": {
    "jp-MarkdownHeadingCollapsed": true
   },
   "source": [
    "## difference (B-A)"
   ]
  },
  {
   "cell_type": "code",
   "execution_count": null,
   "id": "6e11ea8e-a007-4015-a2f4-8cb3acc1ea21",
   "metadata": {},
   "outputs": [],
   "source": [
    "res=pd.merge(df1,df2,how='outer',indicator=True).query(\"_merge=='right_only'\").drop(\"_merge\",axis=1)\n",
    "res"
   ]
  },
  {
   "cell_type": "markdown",
   "id": "ef1a44a2-1b8c-434e-ace9-5f157fb05026",
   "metadata": {},
   "source": [
    "## Intersect"
   ]
  },
  {
   "cell_type": "code",
   "execution_count": null,
   "id": "2b2bb4c3-d5bb-4df7-b70a-a321d719b596",
   "metadata": {},
   "outputs": [],
   "source": [
    "res=pd.merge(df1,df2,how='inner',indicator=True).drop(\"_merge\",axis=1)\n",
    "res=res.drop_duplicates()\n",
    "res"
   ]
  },
  {
   "cell_type": "markdown",
   "id": "e7ab7ad7-4685-42ab-a1cf-862903fbc112",
   "metadata": {},
   "source": [
    "## Operations With extra columns"
   ]
  },
  {
   "cell_type": "code",
   "execution_count": null,
   "id": "c5f82e09-45ea-480f-8136-2f51f9cf48e5",
   "metadata": {},
   "outputs": [],
   "source": [
    "res=pd.concat([df1,df3])\n",
    "res=res.drop('rating',axis=1,errors='ignore')\n",
    "res=res.drop_duplicates()\n",
    "res.sort_values('city_id')"
   ]
  },
  {
   "cell_type": "markdown",
   "id": "305ee5b5-3ea0-4d9a-9da6-6541c8a2b57c",
   "metadata": {},
   "source": [
    "## difference(A-B)"
   ]
  },
  {
   "cell_type": "code",
   "execution_count": null,
   "id": "fd2d0b55-ef7d-4088-941a-0182b0369d63",
   "metadata": {},
   "outputs": [],
   "source": [
    "res=pd.merge(df3,df1,how='outer',indicator=True).query(\"_merge=='left_only'\").drop([\"_merge\",'rating'],axis=1)\n",
    "res"
   ]
  },
  {
   "cell_type": "markdown",
   "id": "8054ad24-c2bb-49d5-a1f9-e4f382ca54ef",
   "metadata": {
    "jp-MarkdownHeadingCollapsed": true
   },
   "source": [
    "## Rough Work"
   ]
  },
  {
   "cell_type": "code",
   "execution_count": null,
   "id": "cd4f1cd9-0e07-476d-bb05-599a9dfcd5fc",
   "metadata": {},
   "outputs": [],
   "source": [
    "a=df1['city_name']\n",
    "b=df2['city_name']\n"
   ]
  },
  {
   "cell_type": "code",
   "execution_count": null,
   "id": "89ab36a2-14c4-437c-943f-d41703a7a1e7",
   "metadata": {},
   "outputs": [],
   "source": [
    "ss=df1[~df1['city_name'].isin(b)]\n",
    "ss"
   ]
  },
  {
   "cell_type": "code",
   "execution_count": null,
   "id": "02aaeeb1-ba43-4d68-99b7-300131826692",
   "metadata": {},
   "outputs": [],
   "source": []
  },
  {
   "cell_type": "code",
   "execution_count": null,
   "id": "37a67d28-3c68-47f0-b95b-68eb9f6b617d",
   "metadata": {},
   "outputs": [],
   "source": []
  },
  {
   "cell_type": "code",
   "execution_count": null,
   "id": "54de5478-73c1-45b2-bb03-dc4ea3898201",
   "metadata": {},
   "outputs": [],
   "source": []
  }
 ],
 "metadata": {
  "kernelspec": {
   "display_name": "Python 3 (ipykernel)",
   "language": "python",
   "name": "python3"
  },
  "language_info": {
   "codemirror_mode": {
    "name": "ipython",
    "version": 3
   },
   "file_extension": ".py",
   "mimetype": "text/x-python",
   "name": "python",
   "nbconvert_exporter": "python",
   "pygments_lexer": "ipython3",
   "version": "3.10.4"
  }
 },
 "nbformat": 4,
 "nbformat_minor": 5
}
