{
 "cells": [
  {
   "cell_type": "code",
   "execution_count": null,
   "id": "9b0c3d2a-a9f0-4a18-92ef-6aafcafaed77",
   "metadata": {},
   "outputs": [],
   "source": [
    "import pandas as pd"
   ]
  },
  {
   "cell_type": "code",
   "execution_count": null,
   "id": "09a1effa-9360-4f42-a86f-71070ed69b44",
   "metadata": {},
   "outputs": [],
   "source": [
    "df=pd.read_csv('city3.csv')"
   ]
  },
  {
   "cell_type": "markdown",
   "id": "3ebd2b50-efc3-4622-9517-1c807fc9ffa3",
   "metadata": {},
   "source": [
    "### drop particular column if we add ,inplace=True it will get deleted permanently"
   ]
  },
  {
   "cell_type": "code",
   "execution_count": null,
   "id": "9ebc9581-d5b2-4878-bf8f-a41edc703832",
   "metadata": {},
   "outputs": [],
   "source": [
    "df.drop('rating',axis=1).head(3)"
   ]
  },
  {
   "cell_type": "markdown",
   "id": "4cf413c7-6b64-4661-8785-fed50c99e411",
   "metadata": {},
   "source": [
    "### Add new column"
   ]
  },
  {
   "cell_type": "code",
   "execution_count": null,
   "id": "d9221059-f552-45c6-8e8c-c3fd11081984",
   "metadata": {},
   "outputs": [],
   "source": [
    "df['random']=df['city_rank']*df['rating']\n",
    "df.head(2)"
   ]
  },
  {
   "cell_type": "markdown",
   "id": "4a1b08e3-d108-403b-a501-8501c9c38f77",
   "metadata": {},
   "source": [
    "### Column rename "
   ]
  },
  {
   "cell_type": "code",
   "execution_count": null,
   "id": "e54bdf1a-2ce3-4145-8e8e-740b9b483262",
   "metadata": {},
   "outputs": [],
   "source": [
    "# df.rename(columns={'city_id' : 'id'},inplace=True) /for permanent\n",
    "# df=df.rename(columns={'city_id' : 'id'})/for permanent\n",
    "df.rename(columns={'city_id' : 'id'})"
   ]
  },
  {
   "cell_type": "code",
   "execution_count": null,
   "id": "e1739d56-aab8-4b78-b639-4a51857f7d66",
   "metadata": {},
   "outputs": [],
   "source": [
    "df.rename(columns={'city_id' : 'id','city_name' : 'name'})"
   ]
  },
  {
   "cell_type": "markdown",
   "id": "2e14029e-c557-4399-b29e-83ecfe9a04dd",
   "metadata": {},
   "source": [
    "### Column data manipulate its like String fuction"
   ]
  },
  {
   "cell_type": "code",
   "execution_count": null,
   "id": "9e86d4fd-b7c2-4ce6-9fb5-b5858cd311cf",
   "metadata": {},
   "outputs": [],
   "source": [
    "df['city_name'].str.replace('o','z')"
   ]
  },
  {
   "cell_type": "code",
   "execution_count": null,
   "id": "562deb9d-936a-4da1-a318-96826b124c80",
   "metadata": {},
   "outputs": [],
   "source": [
    "df['city_name'].str.upper()"
   ]
  },
  {
   "cell_type": "code",
   "execution_count": null,
   "id": "8d62e8fd-6a0f-4801-b3e3-627b148cb519",
   "metadata": {},
   "outputs": [],
   "source": [
    "df['city_name'].str.lower()"
   ]
  },
  {
   "cell_type": "code",
   "execution_count": null,
   "id": "f65ddc6d-3304-4be2-ac47-f0576eec5f1d",
   "metadata": {},
   "outputs": [],
   "source": [
    "df['city_name'].str.title()"
   ]
  },
  {
   "cell_type": "code",
   "execution_count": null,
   "id": "3302f891-242c-4341-97d0-e73087db8b2b",
   "metadata": {},
   "outputs": [],
   "source": [
    "df['city_name'].str.len()"
   ]
  },
  {
   "cell_type": "markdown",
   "id": "8365c0e7-0d56-4ebd-ab54-f445bda97678",
   "metadata": {},
   "source": [
    "### changing data types"
   ]
  },
  {
   "cell_type": "code",
   "execution_count": null,
   "id": "6810de88-2536-4e32-9167-5299ce011ed0",
   "metadata": {},
   "outputs": [],
   "source": [
    "df.dtypes"
   ]
  },
  {
   "cell_type": "code",
   "execution_count": null,
   "id": "f5a07676-28e4-45e3-a5cd-b64e573e6f08",
   "metadata": {},
   "outputs": [],
   "source": [
    "df['rating']=df['rating'].astype(float)"
   ]
  },
  {
   "cell_type": "code",
   "execution_count": null,
   "id": "9affd586-19bc-40fb-a762-9795071f31df",
   "metadata": {},
   "outputs": [],
   "source": [
    "df.dtypes"
   ]
  },
  {
   "cell_type": "markdown",
   "id": "879f033d-01e5-4af0-ab74-a3c41b9ba1f4",
   "metadata": {},
   "source": [
    "### New column with random value"
   ]
  },
  {
   "cell_type": "code",
   "execution_count": null,
   "id": "8c8e04d3-f60d-429b-8f97-dba4113c9c49",
   "metadata": {},
   "outputs": [],
   "source": [
    "df['New']='Yes'"
   ]
  },
  {
   "cell_type": "code",
   "execution_count": null,
   "id": "5af0324b-8ac6-4004-b3e4-2532bcdd6087",
   "metadata": {},
   "outputs": [],
   "source": [
    "df"
   ]
  }
 ],
 "metadata": {
  "kernelspec": {
   "display_name": "Python 3 (ipykernel)",
   "language": "python",
   "name": "python3"
  },
  "language_info": {
   "codemirror_mode": {
    "name": "ipython",
    "version": 3
   },
   "file_extension": ".py",
   "mimetype": "text/x-python",
   "name": "python",
   "nbconvert_exporter": "python",
   "pygments_lexer": "ipython3",
   "version": "3.10.4"
  }
 },
 "nbformat": 4,
 "nbformat_minor": 5
}
