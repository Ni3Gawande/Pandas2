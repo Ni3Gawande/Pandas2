{
 "cells": [
  {
   "cell_type": "code",
   "execution_count": null,
   "id": "149a26de-08ac-49c4-a5c8-2dccf76cab55",
   "metadata": {},
   "outputs": [],
   "source": [
    "import pandas as pd"
   ]
  },
  {
   "cell_type": "code",
   "execution_count": null,
   "id": "3e03713a-b644-4c35-a266-14eda1a10704",
   "metadata": {},
   "outputs": [],
   "source": [
    "df=pd.read_csv('pokemon2.csv')"
   ]
  },
  {
   "cell_type": "markdown",
   "id": "d68a2428-19a9-45c9-a67f-09116972f676",
   "metadata": {},
   "source": [
    "### Basics"
   ]
  },
  {
   "cell_type": "code",
   "execution_count": null,
   "id": "8ef14976-9090-4138-86e0-9845e264af23",
   "metadata": {},
   "outputs": [],
   "source": [
    "df.info()"
   ]
  },
  {
   "cell_type": "code",
   "execution_count": null,
   "id": "f0c4e49d-09b6-4c7e-b648-7aa606db88c9",
   "metadata": {},
   "outputs": [],
   "source": [
    "df.describe()"
   ]
  },
  {
   "cell_type": "code",
   "execution_count": null,
   "id": "7f0bdfa2-7f9e-4f41-9dcf-63032ad938d9",
   "metadata": {},
   "outputs": [],
   "source": [
    "df.count()"
   ]
  },
  {
   "cell_type": "code",
   "execution_count": null,
   "id": "7588e4d8-1cb9-4caa-bc96-200c9db485d5",
   "metadata": {},
   "outputs": [],
   "source": [
    "df.isna().sum()"
   ]
  },
  {
   "cell_type": "code",
   "execution_count": null,
   "id": "71a8e67d-ab37-47bc-bb2d-a4070d72d052",
   "metadata": {},
   "outputs": [],
   "source": [
    "df.shape"
   ]
  },
  {
   "cell_type": "code",
   "execution_count": null,
   "id": "4f730bad-d161-47eb-9d2e-f46582aebd50",
   "metadata": {},
   "outputs": [],
   "source": [
    "df.columns"
   ]
  },
  {
   "cell_type": "code",
   "execution_count": null,
   "id": "ec8a115e-c7dc-4271-ab29-6fc683c5a4e4",
   "metadata": {},
   "outputs": [],
   "source": [
    "df.dtypes"
   ]
  },
  {
   "cell_type": "markdown",
   "id": "d322bf05-1a01-4013-adf6-145266f7e045",
   "metadata": {},
   "source": [
    "### Select required columns"
   ]
  },
  {
   "cell_type": "code",
   "execution_count": null,
   "id": "c9759a5a-a14f-4e51-871e-f4e4d17e63f2",
   "metadata": {},
   "outputs": [],
   "source": [
    "df['Name']"
   ]
  },
  {
   "cell_type": "code",
   "execution_count": null,
   "id": "e5c35bfc-56a3-418f-868c-6f3766515ac9",
   "metadata": {},
   "outputs": [],
   "source": [
    "df[['Name','Type 1','Type 2','HP','Attack']]"
   ]
  },
  {
   "cell_type": "markdown",
   "id": "e7173c37-f915-43c5-a756-21e6706229e0",
   "metadata": {},
   "source": [
    "### Filter"
   ]
  },
  {
   "cell_type": "code",
   "execution_count": null,
   "id": "e9391afa-8503-489d-ac47-d2f3972dd203",
   "metadata": {},
   "outputs": [],
   "source": [
    "df[df['Name']=='Pikachu']"
   ]
  },
  {
   "cell_type": "code",
   "execution_count": null,
   "id": "6aa5d3bc-ca3d-47a6-9703-90306d9d344f",
   "metadata": {},
   "outputs": [],
   "source": [
    "df[df['Attack']>150]"
   ]
  },
  {
   "cell_type": "markdown",
   "id": "ce753dfd-1242-4067-a308-d6dcea9846a1",
   "metadata": {},
   "source": [
    "### and(&) condition "
   ]
  },
  {
   "cell_type": "code",
   "execution_count": null,
   "id": "df3ec4f8-58ae-495c-893a-f7a45bbce24b",
   "metadata": {},
   "outputs": [],
   "source": [
    "df[(df['Attack']>150) & (df['Defense']>=100)]"
   ]
  },
  {
   "cell_type": "markdown",
   "id": "af0c88fd-624b-4b37-8640-adaa6b096f76",
   "metadata": {},
   "source": [
    "### or(|) Condition"
   ]
  },
  {
   "cell_type": "code",
   "execution_count": null,
   "id": "4b931db8-a589-4d08-8efa-3f26a7e16848",
   "metadata": {},
   "outputs": [],
   "source": [
    "df[(df['Attack']>150) | (df['Defense']>=100)]"
   ]
  },
  {
   "cell_type": "markdown",
   "id": "bc1d309e-33f0-44c0-a3a4-0847a3f9a2ab",
   "metadata": {},
   "source": [
    "### isin()"
   ]
  },
  {
   "cell_type": "code",
   "execution_count": null,
   "id": "2af905bc-927c-4065-8d4c-6eacf3e34c19",
   "metadata": {},
   "outputs": [],
   "source": [
    "df[df['HP'].isin([80,73,75])]"
   ]
  },
  {
   "cell_type": "markdown",
   "id": "fbea518d-3fd5-40d3-8c88-f24b8da7c22b",
   "metadata": {},
   "source": [
    "### not isin"
   ]
  },
  {
   "cell_type": "code",
   "execution_count": null,
   "id": "a331ab3c-378b-4351-b174-56be4284a014",
   "metadata": {},
   "outputs": [],
   "source": [
    "df[~df['HP'].isin([80,73,75])]"
   ]
  },
  {
   "cell_type": "markdown",
   "id": "6880e8a1-f3b7-4d70-a639-c7c037f13db9",
   "metadata": {},
   "source": [
    "### between"
   ]
  },
  {
   "cell_type": "code",
   "execution_count": null,
   "id": "f9c60dab-ae28-4b0e-8312-d50f7e7d6dcd",
   "metadata": {},
   "outputs": [],
   "source": [
    "df[df['HP'].between (50 , 100)]"
   ]
  },
  {
   "cell_type": "markdown",
   "id": "ca392080-3604-4cbb-be3e-fa32c3d5b2d9",
   "metadata": {},
   "source": [
    "### not between"
   ]
  },
  {
   "cell_type": "code",
   "execution_count": null,
   "id": "3af88ba9-0ed0-40a8-b76e-ef91a8035a61",
   "metadata": {},
   "outputs": [],
   "source": [
    "df[~df['HP'].between (50 , 100)]"
   ]
  },
  {
   "cell_type": "markdown",
   "id": "ad487e08-a0b4-4f2a-91a9-903e66134098",
   "metadata": {},
   "source": [
    "### after filter select"
   ]
  },
  {
   "cell_type": "code",
   "execution_count": null,
   "id": "468a97e3-2909-4743-a7e8-b9572d8a9cc0",
   "metadata": {},
   "outputs": [],
   "source": [
    "df[~df['HP'].between (50 , 100)]['Name']"
   ]
  },
  {
   "cell_type": "code",
   "execution_count": null,
   "id": "4fba279f-4dd2-4573-a26c-269e51a88a34",
   "metadata": {},
   "outputs": [],
   "source": [
    "df[~df['HP'].between (50 , 100)][['Name','Type 1']]"
   ]
  }
 ],
 "metadata": {
  "kernelspec": {
   "display_name": "Python 3 (ipykernel)",
   "language": "python",
   "name": "python3"
  },
  "language_info": {
   "codemirror_mode": {
    "name": "ipython",
    "version": 3
   },
   "file_extension": ".py",
   "mimetype": "text/x-python",
   "name": "python",
   "nbconvert_exporter": "python",
   "pygments_lexer": "ipython3",
   "version": "3.10.4"
  }
 },
 "nbformat": 4,
 "nbformat_minor": 5
}
