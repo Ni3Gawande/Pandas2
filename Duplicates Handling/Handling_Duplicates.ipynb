{
 "cells": [
  {
   "cell_type": "code",
   "execution_count": null,
   "id": "289f07dd-78df-4cd7-a7b3-c10480ccfc0d",
   "metadata": {},
   "outputs": [],
   "source": [
    "import pandas as pd"
   ]
  },
  {
   "cell_type": "code",
   "execution_count": null,
   "id": "54bbf616-324a-460d-aa4a-e0a0c209fd87",
   "metadata": {},
   "outputs": [],
   "source": [
    "df=pd.read_csv('city4.csv',sep=',',header=0)\n"
   ]
  },
  {
   "cell_type": "code",
   "execution_count": null,
   "id": "1cb09964-e74a-44ce-89d1-a24c5385e334",
   "metadata": {},
   "outputs": [],
   "source": [
    "df"
   ]
  },
  {
   "cell_type": "markdown",
   "id": "c0ced4ae-c470-4cd2-a5aa-94cebe7d63d8",
   "metadata": {},
   "source": [
    "### Display Duplicate records (same row)"
   ]
  },
  {
   "cell_type": "code",
   "execution_count": null,
   "id": "7bb3c4d6-83b4-4438-9f43-4a2d53b4be8c",
   "metadata": {},
   "outputs": [],
   "source": [
    "res=df[df.duplicated()]\n",
    "res"
   ]
  },
  {
   "cell_type": "markdown",
   "id": "d02adca6-8628-4d21-8629-84eb20d2f318",
   "metadata": {},
   "source": [
    "### check duplicates in particular row"
   ]
  },
  {
   "cell_type": "code",
   "execution_count": null,
   "id": "47c83fc1-6339-485f-98bc-c7251582eb04",
   "metadata": {},
   "outputs": [],
   "source": [
    "res=df[df['city_name'].duplicated()]\n",
    "res"
   ]
  },
  {
   "cell_type": "markdown",
   "id": "2b6b6e52-e948-4497-bc1a-f37ad684812e",
   "metadata": {},
   "source": [
    "### delete duplicates from dataset"
   ]
  },
  {
   "cell_type": "code",
   "execution_count": null,
   "id": "e5858faf-d30d-49d7-b2cd-cbe32373a160",
   "metadata": {},
   "outputs": [],
   "source": [
    "res=df.drop_duplicates()\n",
    "res"
   ]
  },
  {
   "cell_type": "markdown",
   "id": "287f937a-914a-4be0-82c5-f0ab98dc7d84",
   "metadata": {},
   "source": [
    "### drop duplicates from particular column"
   ]
  },
  {
   "cell_type": "code",
   "execution_count": null,
   "id": "185b5e7c-7d2f-448e-8da7-6f06c39165b0",
   "metadata": {},
   "outputs": [],
   "source": [
    "res=df.drop_duplicates(subset=['city_name'])\n",
    "res"
   ]
  },
  {
   "cell_type": "code",
   "execution_count": null,
   "id": "f0db5a24-9410-47cc-a350-fe5e2d4602eb",
   "metadata": {},
   "outputs": [],
   "source": []
  },
  {
   "cell_type": "code",
   "execution_count": null,
   "id": "579605cf-0d7d-47b5-8d31-4b202a11350b",
   "metadata": {},
   "outputs": [],
   "source": []
  },
  {
   "cell_type": "code",
   "execution_count": null,
   "id": "019bff9f-1aa3-4ce9-8a8f-7ddad5e6fa7b",
   "metadata": {},
   "outputs": [],
   "source": []
  },
  {
   "cell_type": "code",
   "execution_count": null,
   "id": "4f8228d8-ef2b-4f03-a6d1-3be58a731a24",
   "metadata": {},
   "outputs": [],
   "source": []
  }
 ],
 "metadata": {
  "kernelspec": {
   "display_name": "Python 3 (ipykernel)",
   "language": "python",
   "name": "python3"
  },
  "language_info": {
   "codemirror_mode": {
    "name": "ipython",
    "version": 3
   },
   "file_extension": ".py",
   "mimetype": "text/x-python",
   "name": "python",
   "nbconvert_exporter": "python",
   "pygments_lexer": "ipython3",
   "version": "3.10.4"
  }
 },
 "nbformat": 4,
 "nbformat_minor": 5
}
